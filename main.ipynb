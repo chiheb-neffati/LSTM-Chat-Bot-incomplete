{
 "cells": [
  {
   "cell_type": "markdown",
   "id": "25d949d1",
   "metadata": {},
   "source": [
    "# Chat-bot made with long short-term memory (LSTM) and DNNs"
   ]
  },
  {
   "cell_type": "code",
   "execution_count": 1,
   "id": "d0054e0c",
   "metadata": {
    "scrolled": true
   },
   "outputs": [],
   "source": [
    "import json\n",
    "import pandas as pd\n",
    "import matplotlib.pyplot as plt\n",
    "from tensorflow.keras.layers import TextVectorization, LSTM, Dropout, Bidirectional, Dense, Embedding\n",
    "from tensorflow.keras.models import Sequential\n",
    "import tensorflow as tf\n",
    "import numpy as np"
   ]
  },
  {
   "cell_type": "code",
   "execution_count": 2,
   "id": "2d8ba9dc",
   "metadata": {},
   "outputs": [],
   "source": [
    "with open(\"dataset.json\") as file:\n",
    "    dataset = json.load(file)"
   ]
  },
  {
   "cell_type": "code",
   "execution_count": 3,
   "id": "fcc17526",
   "metadata": {
    "scrolled": true
   },
   "outputs": [
    {
     "data": {
      "text/plain": [
       "22"
      ]
     },
     "execution_count": 3,
     "metadata": {},
     "output_type": "execute_result"
    }
   ],
   "source": [
    "len(dataset['intents'])"
   ]
  },
  {
   "cell_type": "code",
   "execution_count": 4,
   "id": "3f474a20",
   "metadata": {
    "scrolled": true
   },
   "outputs": [
    {
     "data": {
      "text/plain": [
       "{'intent': 'Greeting',\n",
       " 'text': ['Hi',\n",
       "  'Hi there',\n",
       "  'Hola',\n",
       "  'Hello',\n",
       "  'Hello there',\n",
       "  'Hya',\n",
       "  'Hya there'],\n",
       " 'responses': ['Hi human, please tell me your name',\n",
       "  'Hello human, please tell me your name',\n",
       "  'Hola human, please tell me your name'],\n",
       " 'extension': {'function': '', 'entities': False, 'responses': []},\n",
       " 'context': {'in': '', 'out': 'GreetingUserRequest', 'clear': False},\n",
       " 'entityType': 'NA',\n",
       " 'entities': []}"
      ]
     },
     "execution_count": 4,
     "metadata": {},
     "output_type": "execute_result"
    }
   ],
   "source": [
    "dataset['intents'][0]"
   ]
  },
  {
   "cell_type": "code",
   "execution_count": 5,
   "id": "235e0175",
   "metadata": {
    "scrolled": true
   },
   "outputs": [
    {
     "data": {
      "text/html": [
       "<div>\n",
       "<style scoped>\n",
       "    .dataframe tbody tr th:only-of-type {\n",
       "        vertical-align: middle;\n",
       "    }\n",
       "\n",
       "    .dataframe tbody tr th {\n",
       "        vertical-align: top;\n",
       "    }\n",
       "\n",
       "    .dataframe thead th {\n",
       "        text-align: right;\n",
       "    }\n",
       "</style>\n",
       "<table border=\"1\" class=\"dataframe\">\n",
       "  <thead>\n",
       "    <tr style=\"text-align: right;\">\n",
       "      <th></th>\n",
       "      <th>Text</th>\n",
       "      <th>category</th>\n",
       "    </tr>\n",
       "  </thead>\n",
       "  <tbody>\n",
       "    <tr>\n",
       "      <th>0</th>\n",
       "      <td>Hi</td>\n",
       "      <td>Greeting</td>\n",
       "    </tr>\n",
       "    <tr>\n",
       "      <th>1</th>\n",
       "      <td>Hi there</td>\n",
       "      <td>Greeting</td>\n",
       "    </tr>\n",
       "    <tr>\n",
       "      <th>2</th>\n",
       "      <td>Hola</td>\n",
       "      <td>Greeting</td>\n",
       "    </tr>\n",
       "    <tr>\n",
       "      <th>3</th>\n",
       "      <td>Hello</td>\n",
       "      <td>Greeting</td>\n",
       "    </tr>\n",
       "    <tr>\n",
       "      <th>4</th>\n",
       "      <td>Hello there</td>\n",
       "      <td>Greeting</td>\n",
       "    </tr>\n",
       "    <tr>\n",
       "      <th>5</th>\n",
       "      <td>Hya</td>\n",
       "      <td>Greeting</td>\n",
       "    </tr>\n",
       "    <tr>\n",
       "      <th>6</th>\n",
       "      <td>Hya there</td>\n",
       "      <td>Greeting</td>\n",
       "    </tr>\n",
       "  </tbody>\n",
       "</table>\n",
       "</div>"
      ],
      "text/plain": [
       "          Text  category\n",
       "0           Hi  Greeting\n",
       "1     Hi there  Greeting\n",
       "2         Hola  Greeting\n",
       "3        Hello  Greeting\n",
       "4  Hello there  Greeting\n",
       "5          Hya  Greeting\n",
       "6    Hya there  Greeting"
      ]
     },
     "execution_count": 5,
     "metadata": {},
     "output_type": "execute_result"
    }
   ],
   "source": [
    "d = dataset['intents'][0]\n",
    "l = []\n",
    "for i in d[\"text\"]:\n",
    "    row = [i, d[\"intent\"]]\n",
    "    l.append(row)\n",
    "GreetingsData = pd.DataFrame(l)\n",
    "GreetingsData.columns = [\"Text\", \"category\"] \n",
    "GreetingsData\n",
    "    "
   ]
  },
  {
   "cell_type": "code",
   "execution_count": 6,
   "id": "7b21106e",
   "metadata": {},
   "outputs": [],
   "source": [
    "data = []\n",
    "for i in range(len(dataset['intents'])):\n",
    "    d = dataset['intents'][i]\n",
    "    for j in d[\"text\"]:\n",
    "        row = [j, d[\"intent\"]]\n",
    "        l.append(row)\n",
    "DataSet = pd.DataFrame(l)\n",
    "DataSet.columns = [\"Text\", \"category\"] "
   ]
  },
  {
   "cell_type": "code",
   "execution_count": 7,
   "id": "930341ef",
   "metadata": {
    "scrolled": true
   },
   "outputs": [
    {
     "data": {
      "text/plain": [
       "(154, 2)"
      ]
     },
     "execution_count": 7,
     "metadata": {},
     "output_type": "execute_result"
    }
   ],
   "source": [
    "DataSet.shape"
   ]
  },
  {
   "cell_type": "code",
   "execution_count": 8,
   "id": "5027e2ab",
   "metadata": {
    "scrolled": false
   },
   "outputs": [
    {
     "data": {
      "text/plain": [
       "<bound method IndexOpsMixin.value_counts of 0       Greeting\n",
       "1       Greeting\n",
       "2       Greeting\n",
       "3       Greeting\n",
       "4       Greeting\n",
       "         ...    \n",
       "149    SelfAware\n",
       "150    SelfAware\n",
       "151    SelfAware\n",
       "152    SelfAware\n",
       "153    SelfAware\n",
       "Name: category, Length: 154, dtype: object>"
      ]
     },
     "execution_count": 8,
     "metadata": {},
     "output_type": "execute_result"
    }
   ],
   "source": [
    "DataSet.category.value_counts"
   ]
  },
  {
   "cell_type": "code",
   "execution_count": 9,
   "id": "639544b8",
   "metadata": {
    "scrolled": true
   },
   "outputs": [
    {
     "data": {
      "text/html": [
       "<div>\n",
       "<style scoped>\n",
       "    .dataframe tbody tr th:only-of-type {\n",
       "        vertical-align: middle;\n",
       "    }\n",
       "\n",
       "    .dataframe tbody tr th {\n",
       "        vertical-align: top;\n",
       "    }\n",
       "\n",
       "    .dataframe thead th {\n",
       "        text-align: right;\n",
       "    }\n",
       "</style>\n",
       "<table border=\"1\" class=\"dataframe\">\n",
       "  <thead>\n",
       "    <tr style=\"text-align: right;\">\n",
       "      <th></th>\n",
       "      <th>Text</th>\n",
       "      <th>category</th>\n",
       "      <th>Clever</th>\n",
       "      <th>CourtesyGoodBye</th>\n",
       "      <th>CourtesyGreeting</th>\n",
       "      <th>CourtesyGreetingResponse</th>\n",
       "      <th>CurrentHumanQuery</th>\n",
       "      <th>GoodBye</th>\n",
       "      <th>Gossip</th>\n",
       "      <th>Greeting</th>\n",
       "      <th>...</th>\n",
       "      <th>PodBayDoor</th>\n",
       "      <th>PodBayDoorResponse</th>\n",
       "      <th>RealNameQuery</th>\n",
       "      <th>SelfAware</th>\n",
       "      <th>Shutup</th>\n",
       "      <th>Swearing</th>\n",
       "      <th>Thanks</th>\n",
       "      <th>TimeQuery</th>\n",
       "      <th>UnderstandQuery</th>\n",
       "      <th>WhoAmI</th>\n",
       "    </tr>\n",
       "  </thead>\n",
       "  <tbody>\n",
       "    <tr>\n",
       "      <th>0</th>\n",
       "      <td>Hi</td>\n",
       "      <td>Greeting</td>\n",
       "      <td>0</td>\n",
       "      <td>0</td>\n",
       "      <td>0</td>\n",
       "      <td>0</td>\n",
       "      <td>0</td>\n",
       "      <td>0</td>\n",
       "      <td>0</td>\n",
       "      <td>1</td>\n",
       "      <td>...</td>\n",
       "      <td>0</td>\n",
       "      <td>0</td>\n",
       "      <td>0</td>\n",
       "      <td>0</td>\n",
       "      <td>0</td>\n",
       "      <td>0</td>\n",
       "      <td>0</td>\n",
       "      <td>0</td>\n",
       "      <td>0</td>\n",
       "      <td>0</td>\n",
       "    </tr>\n",
       "    <tr>\n",
       "      <th>1</th>\n",
       "      <td>Hi there</td>\n",
       "      <td>Greeting</td>\n",
       "      <td>0</td>\n",
       "      <td>0</td>\n",
       "      <td>0</td>\n",
       "      <td>0</td>\n",
       "      <td>0</td>\n",
       "      <td>0</td>\n",
       "      <td>0</td>\n",
       "      <td>1</td>\n",
       "      <td>...</td>\n",
       "      <td>0</td>\n",
       "      <td>0</td>\n",
       "      <td>0</td>\n",
       "      <td>0</td>\n",
       "      <td>0</td>\n",
       "      <td>0</td>\n",
       "      <td>0</td>\n",
       "      <td>0</td>\n",
       "      <td>0</td>\n",
       "      <td>0</td>\n",
       "    </tr>\n",
       "    <tr>\n",
       "      <th>2</th>\n",
       "      <td>Hola</td>\n",
       "      <td>Greeting</td>\n",
       "      <td>0</td>\n",
       "      <td>0</td>\n",
       "      <td>0</td>\n",
       "      <td>0</td>\n",
       "      <td>0</td>\n",
       "      <td>0</td>\n",
       "      <td>0</td>\n",
       "      <td>1</td>\n",
       "      <td>...</td>\n",
       "      <td>0</td>\n",
       "      <td>0</td>\n",
       "      <td>0</td>\n",
       "      <td>0</td>\n",
       "      <td>0</td>\n",
       "      <td>0</td>\n",
       "      <td>0</td>\n",
       "      <td>0</td>\n",
       "      <td>0</td>\n",
       "      <td>0</td>\n",
       "    </tr>\n",
       "    <tr>\n",
       "      <th>3</th>\n",
       "      <td>Hello</td>\n",
       "      <td>Greeting</td>\n",
       "      <td>0</td>\n",
       "      <td>0</td>\n",
       "      <td>0</td>\n",
       "      <td>0</td>\n",
       "      <td>0</td>\n",
       "      <td>0</td>\n",
       "      <td>0</td>\n",
       "      <td>1</td>\n",
       "      <td>...</td>\n",
       "      <td>0</td>\n",
       "      <td>0</td>\n",
       "      <td>0</td>\n",
       "      <td>0</td>\n",
       "      <td>0</td>\n",
       "      <td>0</td>\n",
       "      <td>0</td>\n",
       "      <td>0</td>\n",
       "      <td>0</td>\n",
       "      <td>0</td>\n",
       "    </tr>\n",
       "    <tr>\n",
       "      <th>4</th>\n",
       "      <td>Hello there</td>\n",
       "      <td>Greeting</td>\n",
       "      <td>0</td>\n",
       "      <td>0</td>\n",
       "      <td>0</td>\n",
       "      <td>0</td>\n",
       "      <td>0</td>\n",
       "      <td>0</td>\n",
       "      <td>0</td>\n",
       "      <td>1</td>\n",
       "      <td>...</td>\n",
       "      <td>0</td>\n",
       "      <td>0</td>\n",
       "      <td>0</td>\n",
       "      <td>0</td>\n",
       "      <td>0</td>\n",
       "      <td>0</td>\n",
       "      <td>0</td>\n",
       "      <td>0</td>\n",
       "      <td>0</td>\n",
       "      <td>0</td>\n",
       "    </tr>\n",
       "  </tbody>\n",
       "</table>\n",
       "<p>5 rows × 24 columns</p>\n",
       "</div>"
      ],
      "text/plain": [
       "          Text  category  Clever  CourtesyGoodBye  CourtesyGreeting  \\\n",
       "0           Hi  Greeting       0                0                 0   \n",
       "1     Hi there  Greeting       0                0                 0   \n",
       "2         Hola  Greeting       0                0                 0   \n",
       "3        Hello  Greeting       0                0                 0   \n",
       "4  Hello there  Greeting       0                0                 0   \n",
       "\n",
       "   CourtesyGreetingResponse  CurrentHumanQuery  GoodBye  Gossip  Greeting  \\\n",
       "0                         0                  0        0       0         1   \n",
       "1                         0                  0        0       0         1   \n",
       "2                         0                  0        0       0         1   \n",
       "3                         0                  0        0       0         1   \n",
       "4                         0                  0        0       0         1   \n",
       "\n",
       "   ...  PodBayDoor  PodBayDoorResponse  RealNameQuery  SelfAware  Shutup  \\\n",
       "0  ...           0                   0              0          0       0   \n",
       "1  ...           0                   0              0          0       0   \n",
       "2  ...           0                   0              0          0       0   \n",
       "3  ...           0                   0              0          0       0   \n",
       "4  ...           0                   0              0          0       0   \n",
       "\n",
       "   Swearing  Thanks  TimeQuery  UnderstandQuery  WhoAmI  \n",
       "0         0       0          0                0       0  \n",
       "1         0       0          0                0       0  \n",
       "2         0       0          0                0       0  \n",
       "3         0       0          0                0       0  \n",
       "4         0       0          0                0       0  \n",
       "\n",
       "[5 rows x 24 columns]"
      ]
     },
     "execution_count": 9,
     "metadata": {},
     "output_type": "execute_result"
    }
   ],
   "source": [
    "categories = pd.get_dummies(DataSet[\"category\"], columns=[1], prefix='', prefix_sep='')\n",
    "DataSet[categories.columns] = categories\n",
    "DataSet.head()"
   ]
  },
  {
   "cell_type": "code",
   "execution_count": 10,
   "id": "b4f52440",
   "metadata": {
    "scrolled": true
   },
   "outputs": [
    {
     "data": {
      "text/html": [
       "<div>\n",
       "<style scoped>\n",
       "    .dataframe tbody tr th:only-of-type {\n",
       "        vertical-align: middle;\n",
       "    }\n",
       "\n",
       "    .dataframe tbody tr th {\n",
       "        vertical-align: top;\n",
       "    }\n",
       "\n",
       "    .dataframe thead th {\n",
       "        text-align: right;\n",
       "    }\n",
       "</style>\n",
       "<table border=\"1\" class=\"dataframe\">\n",
       "  <thead>\n",
       "    <tr style=\"text-align: right;\">\n",
       "      <th></th>\n",
       "      <th>Text</th>\n",
       "      <th>Clever</th>\n",
       "      <th>CourtesyGoodBye</th>\n",
       "      <th>CourtesyGreeting</th>\n",
       "      <th>CourtesyGreetingResponse</th>\n",
       "      <th>CurrentHumanQuery</th>\n",
       "      <th>GoodBye</th>\n",
       "      <th>Gossip</th>\n",
       "      <th>Greeting</th>\n",
       "      <th>GreetingResponse</th>\n",
       "      <th>...</th>\n",
       "      <th>PodBayDoor</th>\n",
       "      <th>PodBayDoorResponse</th>\n",
       "      <th>RealNameQuery</th>\n",
       "      <th>SelfAware</th>\n",
       "      <th>Shutup</th>\n",
       "      <th>Swearing</th>\n",
       "      <th>Thanks</th>\n",
       "      <th>TimeQuery</th>\n",
       "      <th>UnderstandQuery</th>\n",
       "      <th>WhoAmI</th>\n",
       "    </tr>\n",
       "  </thead>\n",
       "  <tbody>\n",
       "    <tr>\n",
       "      <th>0</th>\n",
       "      <td>Hi</td>\n",
       "      <td>0</td>\n",
       "      <td>0</td>\n",
       "      <td>0</td>\n",
       "      <td>0</td>\n",
       "      <td>0</td>\n",
       "      <td>0</td>\n",
       "      <td>0</td>\n",
       "      <td>1</td>\n",
       "      <td>0</td>\n",
       "      <td>...</td>\n",
       "      <td>0</td>\n",
       "      <td>0</td>\n",
       "      <td>0</td>\n",
       "      <td>0</td>\n",
       "      <td>0</td>\n",
       "      <td>0</td>\n",
       "      <td>0</td>\n",
       "      <td>0</td>\n",
       "      <td>0</td>\n",
       "      <td>0</td>\n",
       "    </tr>\n",
       "    <tr>\n",
       "      <th>1</th>\n",
       "      <td>Hi there</td>\n",
       "      <td>0</td>\n",
       "      <td>0</td>\n",
       "      <td>0</td>\n",
       "      <td>0</td>\n",
       "      <td>0</td>\n",
       "      <td>0</td>\n",
       "      <td>0</td>\n",
       "      <td>1</td>\n",
       "      <td>0</td>\n",
       "      <td>...</td>\n",
       "      <td>0</td>\n",
       "      <td>0</td>\n",
       "      <td>0</td>\n",
       "      <td>0</td>\n",
       "      <td>0</td>\n",
       "      <td>0</td>\n",
       "      <td>0</td>\n",
       "      <td>0</td>\n",
       "      <td>0</td>\n",
       "      <td>0</td>\n",
       "    </tr>\n",
       "    <tr>\n",
       "      <th>2</th>\n",
       "      <td>Hola</td>\n",
       "      <td>0</td>\n",
       "      <td>0</td>\n",
       "      <td>0</td>\n",
       "      <td>0</td>\n",
       "      <td>0</td>\n",
       "      <td>0</td>\n",
       "      <td>0</td>\n",
       "      <td>1</td>\n",
       "      <td>0</td>\n",
       "      <td>...</td>\n",
       "      <td>0</td>\n",
       "      <td>0</td>\n",
       "      <td>0</td>\n",
       "      <td>0</td>\n",
       "      <td>0</td>\n",
       "      <td>0</td>\n",
       "      <td>0</td>\n",
       "      <td>0</td>\n",
       "      <td>0</td>\n",
       "      <td>0</td>\n",
       "    </tr>\n",
       "    <tr>\n",
       "      <th>3</th>\n",
       "      <td>Hello</td>\n",
       "      <td>0</td>\n",
       "      <td>0</td>\n",
       "      <td>0</td>\n",
       "      <td>0</td>\n",
       "      <td>0</td>\n",
       "      <td>0</td>\n",
       "      <td>0</td>\n",
       "      <td>1</td>\n",
       "      <td>0</td>\n",
       "      <td>...</td>\n",
       "      <td>0</td>\n",
       "      <td>0</td>\n",
       "      <td>0</td>\n",
       "      <td>0</td>\n",
       "      <td>0</td>\n",
       "      <td>0</td>\n",
       "      <td>0</td>\n",
       "      <td>0</td>\n",
       "      <td>0</td>\n",
       "      <td>0</td>\n",
       "    </tr>\n",
       "    <tr>\n",
       "      <th>4</th>\n",
       "      <td>Hello there</td>\n",
       "      <td>0</td>\n",
       "      <td>0</td>\n",
       "      <td>0</td>\n",
       "      <td>0</td>\n",
       "      <td>0</td>\n",
       "      <td>0</td>\n",
       "      <td>0</td>\n",
       "      <td>1</td>\n",
       "      <td>0</td>\n",
       "      <td>...</td>\n",
       "      <td>0</td>\n",
       "      <td>0</td>\n",
       "      <td>0</td>\n",
       "      <td>0</td>\n",
       "      <td>0</td>\n",
       "      <td>0</td>\n",
       "      <td>0</td>\n",
       "      <td>0</td>\n",
       "      <td>0</td>\n",
       "      <td>0</td>\n",
       "    </tr>\n",
       "  </tbody>\n",
       "</table>\n",
       "<p>5 rows × 23 columns</p>\n",
       "</div>"
      ],
      "text/plain": [
       "          Text  Clever  CourtesyGoodBye  CourtesyGreeting  \\\n",
       "0           Hi       0                0                 0   \n",
       "1     Hi there       0                0                 0   \n",
       "2         Hola       0                0                 0   \n",
       "3        Hello       0                0                 0   \n",
       "4  Hello there       0                0                 0   \n",
       "\n",
       "   CourtesyGreetingResponse  CurrentHumanQuery  GoodBye  Gossip  Greeting  \\\n",
       "0                         0                  0        0       0         1   \n",
       "1                         0                  0        0       0         1   \n",
       "2                         0                  0        0       0         1   \n",
       "3                         0                  0        0       0         1   \n",
       "4                         0                  0        0       0         1   \n",
       "\n",
       "   GreetingResponse  ...  PodBayDoor  PodBayDoorResponse  RealNameQuery  \\\n",
       "0                 0  ...           0                   0              0   \n",
       "1                 0  ...           0                   0              0   \n",
       "2                 0  ...           0                   0              0   \n",
       "3                 0  ...           0                   0              0   \n",
       "4                 0  ...           0                   0              0   \n",
       "\n",
       "   SelfAware  Shutup  Swearing  Thanks  TimeQuery  UnderstandQuery  WhoAmI  \n",
       "0          0       0         0       0          0                0       0  \n",
       "1          0       0         0       0          0                0       0  \n",
       "2          0       0         0       0          0                0       0  \n",
       "3          0       0         0       0          0                0       0  \n",
       "4          0       0         0       0          0                0       0  \n",
       "\n",
       "[5 rows x 23 columns]"
      ]
     },
     "execution_count": 10,
     "metadata": {},
     "output_type": "execute_result"
    }
   ],
   "source": [
    "DataSet = DataSet.drop(columns=\"category\")\n",
    "DataSet.head()"
   ]
  },
  {
   "cell_type": "code",
   "execution_count": 11,
   "id": "623cf175",
   "metadata": {},
   "outputs": [],
   "source": [
    "X = DataSet['Text']\n",
    "y = DataSet[DataSet.columns[1:]]"
   ]
  },
  {
   "cell_type": "code",
   "execution_count": 12,
   "id": "4a9db16c",
   "metadata": {},
   "outputs": [],
   "source": [
    "MAX_WORDS = 2000"
   ]
  },
  {
   "cell_type": "code",
   "execution_count": null,
   "id": "d54b7324",
   "metadata": {},
   "outputs": [],
   "source": [
    "vectorizer = TextVectorization(max_tokens=MAX_WORDS,\n",
    "                               output_sequence_length=100,\n",
    "                               output_mode='int')"
   ]
  },
  {
   "cell_type": "code",
   "execution_count": 14,
   "id": "87094373",
   "metadata": {},
   "outputs": [],
   "source": [
    "vectorizer.adapt(X.values)"
   ]
  },
  {
   "cell_type": "code",
   "execution_count": 15,
   "id": "d8334f5d",
   "metadata": {
    "scrolled": true
   },
   "outputs": [
    {
     "data": {
      "text/plain": [
       "<tf.Tensor: shape=(1, 100), dtype=int64, numpy=\n",
       "array([[35, 30,  0,  0,  0,  0,  0,  0,  0,  0,  0,  0,  0,  0,  0,  0,\n",
       "         0,  0,  0,  0,  0,  0,  0,  0,  0,  0,  0,  0,  0,  0,  0,  0,\n",
       "         0,  0,  0,  0,  0,  0,  0,  0,  0,  0,  0,  0,  0,  0,  0,  0,\n",
       "         0,  0,  0,  0,  0,  0,  0,  0,  0,  0,  0,  0,  0,  0,  0,  0,\n",
       "         0,  0,  0,  0,  0,  0,  0,  0,  0,  0,  0,  0,  0,  0,  0,  0,\n",
       "         0,  0,  0,  0,  0,  0,  0,  0,  0,  0,  0,  0,  0,  0,  0,  0,\n",
       "         0,  0,  0,  0]])>"
      ]
     },
     "execution_count": 15,
     "metadata": {},
     "output_type": "execute_result"
    }
   ],
   "source": [
    "vectorized_text_test = vectorizer([\"Hello there\"])\n",
    "vectorized_text_test"
   ]
  },
  {
   "cell_type": "code",
   "execution_count": 16,
   "id": "306c8f60",
   "metadata": {},
   "outputs": [],
   "source": [
    "vectorized_text = vectorizer(X.values)"
   ]
  },
  {
   "cell_type": "code",
   "execution_count": 17,
   "id": "c08fcaa9",
   "metadata": {},
   "outputs": [],
   "source": [
    "TextData = tf.data.Dataset.from_tensor_slices((vectorized_text, y))"
   ]
  },
  {
   "cell_type": "code",
   "execution_count": 18,
   "id": "4b078fff",
   "metadata": {},
   "outputs": [],
   "source": [
    "TextData = TextData.cache()\n",
    "TextData = TextData.shuffle(160)\n",
    "TextData = TextData.batch(24)\n",
    "TextData = TextData.prefetch(12)"
   ]
  },
  {
   "cell_type": "code",
   "execution_count": 19,
   "id": "5f3cf9d7",
   "metadata": {},
   "outputs": [],
   "source": [
    "train = TextData.take(int(len(TextData)*.8))\n",
    "val = TextData.skip(int(len(TextData)*.2)).take(int(len(TextData)*.2))"
   ]
  },
  {
   "cell_type": "code",
   "execution_count": 20,
   "id": "fae49878",
   "metadata": {
    "scrolled": true
   },
   "outputs": [
    {
     "name": "stdout",
     "output_type": "stream",
     "text": [
      "Model: \"sequential\"\n",
      "_________________________________________________________________\n",
      " Layer (type)                Output Shape              Param #   \n",
      "=================================================================\n",
      " embedding (Embedding)       (None, None, 16)          32016     \n",
      "                                                                 \n",
      " bidirectional (Bidirectiona  (None, 32)               4224      \n",
      " l)                                                              \n",
      "                                                                 \n",
      " dense (Dense)               (None, 25)                825       \n",
      "                                                                 \n",
      " dense_1 (Dense)             (None, 50)                1300      \n",
      "                                                                 \n",
      " dense_2 (Dense)             (None, 25)                1275      \n",
      "                                                                 \n",
      " dense_3 (Dense)             (None, 22)                572       \n",
      "                                                                 \n",
      "=================================================================\n",
      "Total params: 40,212\n",
      "Trainable params: 40,212\n",
      "Non-trainable params: 0\n",
      "_________________________________________________________________\n"
     ]
    }
   ],
   "source": [
    "model = Sequential([\n",
    "    Embedding(MAX_WORDS+1, 16),\n",
    "    Bidirectional(LSTM(16, activation='tanh')),\n",
    "    Dense(25, activation='relu'),\n",
    "    Dense(50, activation='relu'),\n",
    "    Dense(25, activation='relu'),\n",
    "    Dense(len(y.columns), activation='sigmoid')\n",
    "])\n",
    "\n",
    "model.compile(loss='categorical_crossentropy', optimizer='Adam')\n",
    "\n",
    "model.summary()"
   ]
  },
  {
   "cell_type": "code",
   "execution_count": 21,
   "id": "1ae15a66",
   "metadata": {},
   "outputs": [
    {
     "name": "stdout",
     "output_type": "stream",
     "text": [
      "Epoch 1/100\n",
      "5/5 [==============================] - 5s 241ms/step - loss: 3.0919 - val_loss: 3.0893\n",
      "Epoch 2/100\n",
      "5/5 [==============================] - 0s 50ms/step - loss: 3.0897 - val_loss: 3.0866\n",
      "Epoch 3/100\n",
      "5/5 [==============================] - 0s 71ms/step - loss: 3.0894 - val_loss: 3.0889\n",
      "Epoch 4/100\n",
      "5/5 [==============================] - 0s 48ms/step - loss: 3.0863 - val_loss: 3.0857\n",
      "Epoch 5/100\n",
      "5/5 [==============================] - 0s 46ms/step - loss: 3.0862 - val_loss: 3.0799\n",
      "Epoch 6/100\n",
      "5/5 [==============================] - 0s 44ms/step - loss: 3.0815 - val_loss: 3.0749\n",
      "Epoch 7/100\n",
      "5/5 [==============================] - 0s 50ms/step - loss: 3.0801 - val_loss: 3.0729\n",
      "Epoch 8/100\n",
      "5/5 [==============================] - 0s 51ms/step - loss: 3.0769 - val_loss: 3.0700\n",
      "Epoch 9/100\n",
      "5/5 [==============================] - 0s 50ms/step - loss: 3.0756 - val_loss: 3.0632\n",
      "Epoch 10/100\n",
      "5/5 [==============================] - 0s 52ms/step - loss: 3.0622 - val_loss: 3.0332\n",
      "Epoch 11/100\n",
      "5/5 [==============================] - 0s 53ms/step - loss: 3.0530 - val_loss: 3.0606\n",
      "Epoch 12/100\n",
      "5/5 [==============================] - 0s 47ms/step - loss: 3.0413 - val_loss: 2.9925\n",
      "Epoch 13/100\n",
      "5/5 [==============================] - 0s 54ms/step - loss: 3.0310 - val_loss: 3.0164\n",
      "Epoch 14/100\n",
      "5/5 [==============================] - 0s 73ms/step - loss: 3.0022 - val_loss: 2.9760\n",
      "Epoch 15/100\n",
      "5/5 [==============================] - 0s 72ms/step - loss: 2.9973 - val_loss: 3.0031\n",
      "Epoch 16/100\n",
      "5/5 [==============================] - 0s 58ms/step - loss: 2.9798 - val_loss: 2.8543\n",
      "Epoch 17/100\n",
      "5/5 [==============================] - 0s 67ms/step - loss: 2.9232 - val_loss: 2.9863\n",
      "Epoch 18/100\n",
      "5/5 [==============================] - 0s 57ms/step - loss: 2.8757 - val_loss: 2.7635\n",
      "Epoch 19/100\n",
      "5/5 [==============================] - 0s 59ms/step - loss: 2.8265 - val_loss: 2.7109\n",
      "Epoch 20/100\n",
      "5/5 [==============================] - 0s 75ms/step - loss: 2.7441 - val_loss: 2.6619\n",
      "Epoch 21/100\n",
      "5/5 [==============================] - 0s 70ms/step - loss: 2.6972 - val_loss: 2.6369\n",
      "Epoch 22/100\n",
      "5/5 [==============================] - 0s 55ms/step - loss: 2.6325 - val_loss: 2.7507\n",
      "Epoch 23/100\n",
      "5/5 [==============================] - 0s 51ms/step - loss: 2.5620 - val_loss: 2.4622\n",
      "Epoch 24/100\n",
      "5/5 [==============================] - 0s 76ms/step - loss: 2.4315 - val_loss: 2.2066\n",
      "Epoch 25/100\n",
      "5/5 [==============================] - 0s 93ms/step - loss: 2.3899 - val_loss: 2.1827\n",
      "Epoch 26/100\n",
      "5/5 [==============================] - 0s 68ms/step - loss: 2.3467 - val_loss: 2.0951\n",
      "Epoch 27/100\n",
      "5/5 [==============================] - 0s 74ms/step - loss: 2.2957 - val_loss: 2.2702\n",
      "Epoch 28/100\n",
      "5/5 [==============================] - 0s 59ms/step - loss: 2.1771 - val_loss: 2.3157\n",
      "Epoch 29/100\n",
      "5/5 [==============================] - 0s 51ms/step - loss: 2.0268 - val_loss: 2.1205\n",
      "Epoch 30/100\n",
      "5/5 [==============================] - 0s 77ms/step - loss: 2.0167 - val_loss: 2.0272\n",
      "Epoch 31/100\n",
      "5/5 [==============================] - 0s 55ms/step - loss: 1.9366 - val_loss: 1.8993\n",
      "Epoch 32/100\n",
      "5/5 [==============================] - 0s 52ms/step - loss: 1.9634 - val_loss: 1.5870\n",
      "Epoch 33/100\n",
      "5/5 [==============================] - 0s 50ms/step - loss: 1.7361 - val_loss: 2.0192\n",
      "Epoch 34/100\n",
      "5/5 [==============================] - 0s 57ms/step - loss: 1.7103 - val_loss: 1.8405\n",
      "Epoch 35/100\n",
      "5/5 [==============================] - 0s 52ms/step - loss: 1.5761 - val_loss: 1.6479\n",
      "Epoch 36/100\n",
      "5/5 [==============================] - 0s 49ms/step - loss: 1.5933 - val_loss: 1.5562\n",
      "Epoch 37/100\n",
      "5/5 [==============================] - 0s 51ms/step - loss: 1.5115 - val_loss: 1.7516\n",
      "Epoch 38/100\n",
      "5/5 [==============================] - 0s 49ms/step - loss: 1.4742 - val_loss: 1.4575\n",
      "Epoch 39/100\n",
      "5/5 [==============================] - 0s 53ms/step - loss: 1.3744 - val_loss: 1.2325\n",
      "Epoch 40/100\n",
      "5/5 [==============================] - 0s 52ms/step - loss: 1.2657 - val_loss: 1.3790\n",
      "Epoch 41/100\n",
      "5/5 [==============================] - 0s 49ms/step - loss: 1.2575 - val_loss: 1.1966\n",
      "Epoch 42/100\n",
      "5/5 [==============================] - 0s 54ms/step - loss: 1.1911 - val_loss: 0.9164\n",
      "Epoch 43/100\n",
      "5/5 [==============================] - 0s 53ms/step - loss: 1.1120 - val_loss: 1.0816\n",
      "Epoch 44/100\n",
      "5/5 [==============================] - 0s 53ms/step - loss: 1.1358 - val_loss: 0.9744\n",
      "Epoch 45/100\n",
      "5/5 [==============================] - 0s 56ms/step - loss: 1.0089 - val_loss: 1.0029\n",
      "Epoch 46/100\n",
      "5/5 [==============================] - 0s 54ms/step - loss: 0.9554 - val_loss: 1.0671\n",
      "Epoch 47/100\n",
      "5/5 [==============================] - 0s 53ms/step - loss: 0.9233 - val_loss: 0.8806\n",
      "Epoch 48/100\n",
      "5/5 [==============================] - 0s 54ms/step - loss: 0.8434 - val_loss: 0.6745\n",
      "Epoch 49/100\n",
      "5/5 [==============================] - 0s 56ms/step - loss: 0.8255 - val_loss: 0.7036\n",
      "Epoch 50/100\n",
      "5/5 [==============================] - 0s 55ms/step - loss: 0.7921 - val_loss: 0.6389\n",
      "Epoch 51/100\n",
      "5/5 [==============================] - 0s 54ms/step - loss: 0.7067 - val_loss: 0.8454\n",
      "Epoch 52/100\n",
      "5/5 [==============================] - 0s 56ms/step - loss: 0.7300 - val_loss: 0.6355\n",
      "Epoch 53/100\n",
      "5/5 [==============================] - 0s 55ms/step - loss: 0.6651 - val_loss: 0.6367\n",
      "Epoch 54/100\n",
      "5/5 [==============================] - 0s 54ms/step - loss: 0.6349 - val_loss: 0.6135\n",
      "Epoch 55/100\n",
      "5/5 [==============================] - 0s 57ms/step - loss: 0.6179 - val_loss: 0.6500\n",
      "Epoch 56/100\n",
      "5/5 [==============================] - 0s 51ms/step - loss: 0.5534 - val_loss: 0.5406\n",
      "Epoch 57/100\n",
      "5/5 [==============================] - 0s 49ms/step - loss: 0.5375 - val_loss: 0.3597\n",
      "Epoch 58/100\n",
      "5/5 [==============================] - 0s 55ms/step - loss: 0.4877 - val_loss: 0.3849\n",
      "Epoch 59/100\n",
      "5/5 [==============================] - 0s 52ms/step - loss: 0.4590 - val_loss: 0.5279\n",
      "Epoch 60/100\n",
      "5/5 [==============================] - 0s 52ms/step - loss: 0.4033 - val_loss: 0.3063\n",
      "Epoch 61/100\n",
      "5/5 [==============================] - 0s 55ms/step - loss: 0.3758 - val_loss: 0.3817\n",
      "Epoch 62/100\n",
      "5/5 [==============================] - 0s 53ms/step - loss: 0.3757 - val_loss: 0.2984\n",
      "Epoch 63/100\n",
      "5/5 [==============================] - 0s 59ms/step - loss: 0.3581 - val_loss: 0.3821\n",
      "Epoch 64/100\n",
      "5/5 [==============================] - 0s 52ms/step - loss: 0.3677 - val_loss: 0.3079\n",
      "Epoch 65/100\n",
      "5/5 [==============================] - 0s 49ms/step - loss: 0.2905 - val_loss: 0.3129\n",
      "Epoch 66/100\n",
      "5/5 [==============================] - 0s 50ms/step - loss: 0.2973 - val_loss: 0.2796\n",
      "Epoch 67/100\n",
      "5/5 [==============================] - 0s 54ms/step - loss: 0.2823 - val_loss: 0.2974\n",
      "Epoch 68/100\n",
      "5/5 [==============================] - 0s 56ms/step - loss: 0.2589 - val_loss: 0.2201\n",
      "Epoch 69/100\n",
      "5/5 [==============================] - 0s 54ms/step - loss: 0.2337 - val_loss: 0.2516\n",
      "Epoch 70/100\n",
      "5/5 [==============================] - 0s 74ms/step - loss: 0.2291 - val_loss: 0.2277\n",
      "Epoch 71/100\n",
      "5/5 [==============================] - 0s 51ms/step - loss: 0.2195 - val_loss: 0.1814\n",
      "Epoch 72/100\n",
      "5/5 [==============================] - 0s 53ms/step - loss: 0.2201 - val_loss: 0.1700\n",
      "Epoch 73/100\n",
      "5/5 [==============================] - 0s 76ms/step - loss: 0.2153 - val_loss: 0.2346\n",
      "Epoch 74/100\n",
      "5/5 [==============================] - 0s 50ms/step - loss: 0.1996 - val_loss: 0.1965\n",
      "Epoch 75/100\n",
      "5/5 [==============================] - 0s 49ms/step - loss: 0.1811 - val_loss: 0.1638\n",
      "Epoch 76/100\n",
      "5/5 [==============================] - 0s 84ms/step - loss: 0.1835 - val_loss: 0.1909\n",
      "Epoch 77/100\n",
      "5/5 [==============================] - 0s 88ms/step - loss: 0.1601 - val_loss: 0.1747\n",
      "Epoch 78/100\n",
      "5/5 [==============================] - 0s 55ms/step - loss: 0.1684 - val_loss: 0.1704\n",
      "Epoch 79/100\n",
      "5/5 [==============================] - 0s 81ms/step - loss: 0.1548 - val_loss: 0.1077\n",
      "Epoch 80/100\n",
      "5/5 [==============================] - 0s 99ms/step - loss: 0.1470 - val_loss: 0.1375\n",
      "Epoch 81/100\n",
      "5/5 [==============================] - 0s 54ms/step - loss: 0.1452 - val_loss: 0.1332\n",
      "Epoch 82/100\n",
      "5/5 [==============================] - 0s 54ms/step - loss: 0.1288 - val_loss: 0.1694\n",
      "Epoch 83/100\n",
      "5/5 [==============================] - 0s 55ms/step - loss: 0.1246 - val_loss: 0.1011\n",
      "Epoch 84/100\n",
      "5/5 [==============================] - 0s 54ms/step - loss: 0.1205 - val_loss: 0.1465\n",
      "Epoch 85/100\n",
      "5/5 [==============================] - 0s 54ms/step - loss: 0.1117 - val_loss: 0.1005\n",
      "Epoch 86/100\n",
      "5/5 [==============================] - 0s 54ms/step - loss: 0.1057 - val_loss: 0.0844\n",
      "Epoch 87/100\n",
      "5/5 [==============================] - 0s 52ms/step - loss: 0.0956 - val_loss: 0.0639\n",
      "Epoch 88/100\n",
      "5/5 [==============================] - 0s 54ms/step - loss: 0.0936 - val_loss: 0.1507\n",
      "Epoch 89/100\n",
      "5/5 [==============================] - 0s 55ms/step - loss: 0.0905 - val_loss: 0.0819\n",
      "Epoch 90/100\n",
      "5/5 [==============================] - 0s 54ms/step - loss: 0.0858 - val_loss: 0.0968\n",
      "Epoch 91/100\n",
      "5/5 [==============================] - 0s 53ms/step - loss: 0.0882 - val_loss: 0.1007\n",
      "Epoch 92/100\n",
      "5/5 [==============================] - 0s 53ms/step - loss: 0.0868 - val_loss: 0.0817\n",
      "Epoch 93/100\n",
      "5/5 [==============================] - 0s 55ms/step - loss: 0.0776 - val_loss: 0.0480\n",
      "Epoch 94/100\n",
      "5/5 [==============================] - 0s 54ms/step - loss: 0.0652 - val_loss: 0.0693\n",
      "Epoch 95/100\n",
      "5/5 [==============================] - 0s 49ms/step - loss: 0.0721 - val_loss: 0.0474\n",
      "Epoch 96/100\n",
      "5/5 [==============================] - 0s 50ms/step - loss: 0.0576 - val_loss: 0.0593\n",
      "Epoch 97/100\n",
      "5/5 [==============================] - 0s 58ms/step - loss: 0.0602 - val_loss: 0.0738\n",
      "Epoch 98/100\n",
      "5/5 [==============================] - 0s 75ms/step - loss: 0.0538 - val_loss: 0.0630\n",
      "Epoch 99/100\n",
      "5/5 [==============================] - 0s 52ms/step - loss: 0.0458 - val_loss: 0.0387\n",
      "Epoch 100/100\n",
      "5/5 [==============================] - 0s 63ms/step - loss: 0.0480 - val_loss: 0.0719\n"
     ]
    }
   ],
   "source": [
    "history = model.fit(train, epochs=100, validation_data=val)"
   ]
  },
  {
   "cell_type": "code",
   "execution_count": 22,
   "id": "1b910858",
   "metadata": {
    "scrolled": true
   },
   "outputs": [
    {
     "data": {
      "text/plain": [
       "[<matplotlib.lines.Line2D at 0x7f94c4fe5640>]"
      ]
     },
     "execution_count": 22,
     "metadata": {},
     "output_type": "execute_result"
    },
    {
     "data": {
      "image/png": "[encoded data removed]",
      "text/plain": [
       "<Figure size 432x288 with 1 Axes>"
      ]
     },
     "metadata": {
      "needs_background": "light"
     },
     "output_type": "display_data"
    }
   ],
   "source": [
    "plt.plot(history.history[\"loss\"])\n",
    "plt.plot(history.history[\"val_loss\"])"
   ]
  },
  {
   "cell_type": "code",
   "execution_count": 23,
   "id": "32c2a44d",
   "metadata": {},
   "outputs": [
    {
     "data": {
      "text/plain": [
       "Index(['Clever', 'CourtesyGoodBye', 'CourtesyGreeting',\n",
       "       'CourtesyGreetingResponse', 'CurrentHumanQuery', 'GoodBye', 'Gossip',\n",
       "       'Greeting', 'GreetingResponse', 'Jokes', 'NameQuery', 'NotTalking2U',\n",
       "       'PodBayDoor', 'PodBayDoorResponse', 'RealNameQuery', 'SelfAware',\n",
       "       'Shutup', 'Swearing', 'Thanks', 'TimeQuery', 'UnderstandQuery',\n",
       "       'WhoAmI'],\n",
       "      dtype='object')"
      ]
     },
     "execution_count": 23,
     "metadata": {},
     "output_type": "execute_result"
    }
   ],
   "source": [
    "y.columns"
   ]
  },
  {
   "cell_type": "code",
   "execution_count": 28,
   "id": "d7ee69df",
   "metadata": {
    "scrolled": true
   },
   "outputs": [
    {
     "data": {
      "text/plain": [
       "<tf.Tensor: shape=(100,), dtype=int64, numpy=\n",
       "array([ 7,  4, 16,  8,  0,  0,  0,  0,  0,  0,  0,  0,  0,  0,  0,  0,  0,\n",
       "        0,  0,  0,  0,  0,  0,  0,  0,  0,  0,  0,  0,  0,  0,  0,  0,  0,\n",
       "        0,  0,  0,  0,  0,  0,  0,  0,  0,  0,  0,  0,  0,  0,  0,  0,  0,\n",
       "        0,  0,  0,  0,  0,  0,  0,  0,  0,  0,  0,  0,  0,  0,  0,  0,  0,\n",
       "        0,  0,  0,  0,  0,  0,  0,  0,  0,  0,  0,  0,  0,  0,  0,  0,  0,\n",
       "        0,  0,  0,  0,  0,  0,  0,  0,  0,  0,  0,  0,  0,  0,  0])>"
      ]
     },
     "execution_count": 28,
     "metadata": {},
     "output_type": "execute_result"
    }
   ],
   "source": [
    "input_text = vectorizer('What is your name ?')\n",
    "input_text"
   ]
  },
  {
   "cell_type": "code",
   "execution_count": 29,
   "id": "7fbe2c70",
   "metadata": {
    "scrolled": true
   },
   "outputs": [
    {
     "data": {
      "text/plain": [
       "'NameQuery'"
      ]
     },
     "execution_count": 29,
     "metadata": {},
     "output_type": "execute_result"
    }
   ],
   "source": [
    "res = model.predict(np.expand_dims(input_text, 0))\n",
    "y.columns[np.array(tf.argmax(res, 1))][0]"
   ]
  },
  {
   "cell_type": "code",
   "execution_count": 26,
   "id": "d11c1a17",
   "metadata": {},
   "outputs": [
    {
     "name": "stderr",
     "output_type": "stream",
     "text": [
      "2022-05-19 18:49:38.187137: W tensorflow/python/util/util.cc:368] Sets are not currently considered sequences, but this may change in the future, so consider avoiding using them.\n",
      "WARNING:absl:Found untraced functions such as lstm_cell_1_layer_call_fn, lstm_cell_1_layer_call_and_return_conditional_losses, lstm_cell_2_layer_call_fn, lstm_cell_2_layer_call_and_return_conditional_losses, lstm_cell_1_layer_call_fn while saving (showing 5 of 10). These functions will not be directly callable after loading.\n"
     ]
    },
    {
     "name": "stdout",
     "output_type": "stream",
     "text": [
      "INFO:tensorflow:Assets written to: modelPB/assets\n"
     ]
    },
    {
     "name": "stderr",
     "output_type": "stream",
     "text": [
      "INFO:tensorflow:Assets written to: modelPB/assets\n",
      "WARNING:absl:<keras.layers.recurrent.LSTMCell object at 0x7f94cc685970> has the same name 'LSTMCell' as a built-in Keras object. Consider renaming <class 'keras.layers.recurrent.LSTMCell'> to avoid naming conflicts when loading with `tf.keras.models.load_model`. If renaming is not possible, pass the object in the `custom_objects` parameter of the load function.\n",
      "WARNING:absl:<keras.layers.recurrent.LSTMCell object at 0x7f94cc6cfd30> has the same name 'LSTMCell' as a built-in Keras object. Consider renaming <class 'keras.layers.recurrent.LSTMCell'> to avoid naming conflicts when loading with `tf.keras.models.load_model`. If renaming is not possible, pass the object in the `custom_objects` parameter of the load function.\n"
     ]
    }
   ],
   "source": [
    "model.save(\"model.h5\")"
   ]
  },
  {
   "cell_type": "code",
   "execution_count": null,
   "id": "7f046ba9",
   "metadata": {},
   "outputs": [],
   "source": [
    "import random\n",
    "\n",
    "def chat():\n",
    "    print(\"start:\\n\")\n",
    "    while True:\n",
    "        inputText = input(\"You: \")\n",
    "        if inputText.lower()==\"quit\": break\n",
    "        inputText = vectorizer(inputText)\n",
    "        res = model.predict(np.expand_dims(inputText, 0))\n",
    "        categorie = y.columns[np.array(tf.argmax(res, 1))][0]\n",
    "        for intent in dataset['intents']:\n",
    "            if intent[\"intent\"] == categorie:\n",
    "                responses = intent[\"responses\"]\n",
    "        print(\"bot: \"+random.choice(responses))\n",
    "chat()"
   ]
  },
  {
   "cell_type": "markdown",
   "id": "76238a86",
   "metadata": {},
   "source": [
    "This project is not yet complete, i will revisit it sometime in the near future, the NN model is working but there is some work that could be done to improve it(e.g: add relation between the bot's response and his next responses)."
   ]
  }
 ],
 "metadata": {
  "interpreter": {
   "hash": "31f2aee4e71d21fbe5cf8b01ff0e069b9275f58929596ceb00d14d90e3e16cd6"
  },
  "kernelspec": {
   "display_name": "Python 3.8.10 64-bit",
   "language": "python",
   "name": "python3"
  },
  "language_info": {
   "codemirror_mode": {
    "name": "ipython",
    "version": 3
   },
   "file_extension": ".py",
   "mimetype": "text/x-python",
   "name": "python",
   "nbconvert_exporter": "python",
   "pygments_lexer": "ipython3",
   "version": "3.8.10"
  }
 },
 "nbformat": 4,
 "nbformat_minor": 5
}
