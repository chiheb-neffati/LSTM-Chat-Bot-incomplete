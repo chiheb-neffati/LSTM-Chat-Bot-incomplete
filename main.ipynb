{
 "cells": [
  {
   "cell_type": "markdown",
   "id": "25d949d1",
   "metadata": {},
   "source": [
    "# Chat-bot made with long short-term memory (LSTM) and DNNs"
   ]
  },
  {
   "cell_type": "code",
   "execution_count": null,
   "id": "d0054e0c",
   "metadata": {
    "scrolled": true
   },
   "outputs": [],
   "source": [
    "import json\n",
    "import pandas as pd\n",
    "import matplotlib.pyplot as plt\n",
    "from tensorflow.keras.layers import TextVectorization, LSTM, Dropout, Bidirectional, Dense, Embedding\n",
    "from tensorflow.keras.models import Sequential\n",
    "import tensorflow as tf\n",
    "import numpy as np"
   ]
  },
  {
   "cell_type": "code",
   "execution_count": 2,
   "id": "2d8ba9dc",
   "metadata": {},
   "outputs": [],
   "source": [
    "with open(\"dataset.json\") as file:\n",
    "    dataset = json.load(file)"
   ]
  },
  {
   "cell_type": "code",
   "execution_count": 3,
   "id": "fcc17526",
   "metadata": {
    "scrolled": true
   },
   "outputs": [
    {
     "data": {
      "text/plain": [
       "22"
      ]
     },
     "execution_count": 3,
     "metadata": {},
     "output_type": "execute_result"
    }
   ],
   "source": [
    "len(dataset['intents'])"
   ]
  },
  {
   "cell_type": "code",
   "execution_count": 4,
   "id": "3f474a20",
   "metadata": {
    "scrolled": true
   },
   "outputs": [
    {
     "data": {
      "text/plain": [
       "{'intent': 'Greeting',\n",
       " 'text': ['Hi',\n",
       "  'Hi there',\n",
       "  'Hola',\n",
       "  'Hello',\n",
       "  'Hello there',\n",
       "  'Hya',\n",
       "  'Hya there'],\n",
       " 'responses': ['Hi human, please tell me your name',\n",
       "  'Hello human, please tell me your name',\n",
       "  'Hola human, please tell me your name'],\n",
       " 'extension': {'function': '', 'entities': False, 'responses': []},\n",
       " 'context': {'in': '', 'out': 'GreetingUserRequest', 'clear': False},\n",
       " 'entityType': 'NA',\n",
       " 'entities': []}"
      ]
     },
     "execution_count": 4,
     "metadata": {},
     "output_type": "execute_result"
    }
   ],
   "source": [
    "dataset['intents'][0]"
   ]
  },
  {
   "cell_type": "code",
   "execution_count": 5,
   "id": "235e0175",
   "metadata": {
    "scrolled": true
   },
   "outputs": [
    {
     "data": {
      "text/html": [
       "<div>\n",
       "<style scoped>\n",
       "    .dataframe tbody tr th:only-of-type {\n",
       "        vertical-align: middle;\n",
       "    }\n",
       "\n",
       "    .dataframe tbody tr th {\n",
       "        vertical-align: top;\n",
       "    }\n",
       "\n",
       "    .dataframe thead th {\n",
       "        text-align: right;\n",
       "    }\n",
       "</style>\n",
       "<table border=\"1\" class=\"dataframe\">\n",
       "  <thead>\n",
       "    <tr style=\"text-align: right;\">\n",
       "      <th></th>\n",
       "      <th>Text</th>\n",
       "      <th>category</th>\n",
       "    </tr>\n",
       "  </thead>\n",
       "  <tbody>\n",
       "    <tr>\n",
       "      <th>0</th>\n",
       "      <td>Hi</td>\n",
       "      <td>Greeting</td>\n",
       "    </tr>\n",
       "    <tr>\n",
       "      <th>1</th>\n",
       "      <td>Hi there</td>\n",
       "      <td>Greeting</td>\n",
       "    </tr>\n",
       "    <tr>\n",
       "      <th>2</th>\n",
       "      <td>Hola</td>\n",
       "      <td>Greeting</td>\n",
       "    </tr>\n",
       "    <tr>\n",
       "      <th>3</th>\n",
       "      <td>Hello</td>\n",
       "      <td>Greeting</td>\n",
       "    </tr>\n",
       "    <tr>\n",
       "      <th>4</th>\n",
       "      <td>Hello there</td>\n",
       "      <td>Greeting</td>\n",
       "    </tr>\n",
       "    <tr>\n",
       "      <th>5</th>\n",
       "      <td>Hya</td>\n",
       "      <td>Greeting</td>\n",
       "    </tr>\n",
       "    <tr>\n",
       "      <th>6</th>\n",
       "      <td>Hya there</td>\n",
       "      <td>Greeting</td>\n",
       "    </tr>\n",
       "  </tbody>\n",
       "</table>\n",
       "</div>"
      ],
      "text/plain": [
       "          Text  category\n",
       "0           Hi  Greeting\n",
       "1     Hi there  Greeting\n",
       "2         Hola  Greeting\n",
       "3        Hello  Greeting\n",
       "4  Hello there  Greeting\n",
       "5          Hya  Greeting\n",
       "6    Hya there  Greeting"
      ]
     },
     "execution_count": 5,
     "metadata": {},
     "output_type": "execute_result"
    }
   ],
   "source": [
    "d = dataset['intents'][0]\n",
    "l = []\n",
    "for i in d[\"text\"]:\n",
    "    row = [i, d[\"intent\"]]\n",
    "    l.append(row)\n",
    "GreetingsData = pd.DataFrame(l)\n",
    "GreetingsData.columns = [\"Text\", \"category\"] \n",
    "GreetingsData\n",
    "    "
   ]
  },
  {
   "cell_type": "code",
   "execution_count": 6,
   "id": "7b21106e",
   "metadata": {},
   "outputs": [],
   "source": [
    "data = []\n",
    "for i in range(len(dataset['intents'])):\n",
    "    d = dataset['intents'][i]\n",
    "    for j in d[\"text\"]:\n",
    "        row = [j, d[\"intent\"]]\n",
    "        l.append(row)\n",
    "DataSet = pd.DataFrame(l)\n",
    "DataSet.columns = [\"Text\", \"category\"] "
   ]
  },
  {
   "cell_type": "code",
   "execution_count": 7,
   "id": "930341ef",
   "metadata": {
    "scrolled": true
   },
   "outputs": [
    {
     "data": {
      "text/plain": [
       "(154, 2)"
      ]
     },
     "execution_count": 7,
     "metadata": {},
     "output_type": "execute_result"
    }
   ],
   "source": [
    "DataSet.shape"
   ]
  },
  {
   "cell_type": "code",
   "execution_count": 8,
   "id": "5027e2ab",
   "metadata": {
    "scrolled": false
   },
   "outputs": [
    {
     "data": {
      "text/plain": [
       "<bound method IndexOpsMixin.value_counts of 0       Greeting\n",
       "1       Greeting\n",
       "2       Greeting\n",
       "3       Greeting\n",
       "4       Greeting\n",
       "         ...    \n",
       "149    SelfAware\n",
       "150    SelfAware\n",
       "151    SelfAware\n",
       "152    SelfAware\n",
       "153    SelfAware\n",
       "Name: category, Length: 154, dtype: object>"
      ]
     },
     "execution_count": 8,
     "metadata": {},
     "output_type": "execute_result"
    }
   ],
   "source": [
    "DataSet.category.value_counts"
   ]
  },
  {
   "cell_type": "code",
   "execution_count": 9,
   "id": "639544b8",
   "metadata": {
    "scrolled": true
   },
   "outputs": [
    {
     "data": {
      "text/html": [
       "<div>\n",
       "<style scoped>\n",
       "    .dataframe tbody tr th:only-of-type {\n",
       "        vertical-align: middle;\n",
       "    }\n",
       "\n",
       "    .dataframe tbody tr th {\n",
       "        vertical-align: top;\n",
       "    }\n",
       "\n",
       "    .dataframe thead th {\n",
       "        text-align: right;\n",
       "    }\n",
       "</style>\n",
       "<table border=\"1\" class=\"dataframe\">\n",
       "  <thead>\n",
       "    <tr style=\"text-align: right;\">\n",
       "      <th></th>\n",
       "      <th>Text</th>\n",
       "      <th>category</th>\n",
       "      <th>Clever</th>\n",
       "      <th>CourtesyGoodBye</th>\n",
       "      <th>CourtesyGreeting</th>\n",
       "      <th>CourtesyGreetingResponse</th>\n",
       "      <th>CurrentHumanQuery</th>\n",
       "      <th>GoodBye</th>\n",
       "      <th>Gossip</th>\n",
       "      <th>Greeting</th>\n",
       "      <th>...</th>\n",
       "      <th>PodBayDoor</th>\n",
       "      <th>PodBayDoorResponse</th>\n",
       "      <th>RealNameQuery</th>\n",
       "      <th>SelfAware</th>\n",
       "      <th>Shutup</th>\n",
       "      <th>Swearing</th>\n",
       "      <th>Thanks</th>\n",
       "      <th>TimeQuery</th>\n",
       "      <th>UnderstandQuery</th>\n",
       "      <th>WhoAmI</th>\n",
       "    </tr>\n",
       "  </thead>\n",
       "  <tbody>\n",
       "    <tr>\n",
       "      <th>0</th>\n",
       "      <td>Hi</td>\n",
       "      <td>Greeting</td>\n",
       "      <td>0</td>\n",
       "      <td>0</td>\n",
       "      <td>0</td>\n",
       "      <td>0</td>\n",
       "      <td>0</td>\n",
       "      <td>0</td>\n",
       "      <td>0</td>\n",
       "      <td>1</td>\n",
       "      <td>...</td>\n",
       "      <td>0</td>\n",
       "      <td>0</td>\n",
       "      <td>0</td>\n",
       "      <td>0</td>\n",
       "      <td>0</td>\n",
       "      <td>0</td>\n",
       "      <td>0</td>\n",
       "      <td>0</td>\n",
       "      <td>0</td>\n",
       "      <td>0</td>\n",
       "    </tr>\n",
       "    <tr>\n",
       "      <th>1</th>\n",
       "      <td>Hi there</td>\n",
       "      <td>Greeting</td>\n",
       "      <td>0</td>\n",
       "      <td>0</td>\n",
       "      <td>0</td>\n",
       "      <td>0</td>\n",
       "      <td>0</td>\n",
       "      <td>0</td>\n",
       "      <td>0</td>\n",
       "      <td>1</td>\n",
       "      <td>...</td>\n",
       "      <td>0</td>\n",
       "      <td>0</td>\n",
       "      <td>0</td>\n",
       "      <td>0</td>\n",
       "      <td>0</td>\n",
       "      <td>0</td>\n",
       "      <td>0</td>\n",
       "      <td>0</td>\n",
       "      <td>0</td>\n",
       "      <td>0</td>\n",
       "    </tr>\n",
       "    <tr>\n",
       "      <th>2</th>\n",
       "      <td>Hola</td>\n",
       "      <td>Greeting</td>\n",
       "      <td>0</td>\n",
       "      <td>0</td>\n",
       "      <td>0</td>\n",
       "      <td>0</td>\n",
       "      <td>0</td>\n",
       "      <td>0</td>\n",
       "      <td>0</td>\n",
       "      <td>1</td>\n",
       "      <td>...</td>\n",
       "      <td>0</td>\n",
       "      <td>0</td>\n",
       "      <td>0</td>\n",
       "      <td>0</td>\n",
       "      <td>0</td>\n",
       "      <td>0</td>\n",
       "      <td>0</td>\n",
       "      <td>0</td>\n",
       "      <td>0</td>\n",
       "      <td>0</td>\n",
       "    </tr>\n",
       "    <tr>\n",
       "      <th>3</th>\n",
       "      <td>Hello</td>\n",
       "      <td>Greeting</td>\n",
       "      <td>0</td>\n",
       "      <td>0</td>\n",
       "      <td>0</td>\n",
       "      <td>0</td>\n",
       "      <td>0</td>\n",
       "      <td>0</td>\n",
       "      <td>0</td>\n",
       "      <td>1</td>\n",
       "      <td>...</td>\n",
       "      <td>0</td>\n",
       "      <td>0</td>\n",
       "      <td>0</td>\n",
       "      <td>0</td>\n",
       "      <td>0</td>\n",
       "      <td>0</td>\n",
       "      <td>0</td>\n",
       "      <td>0</td>\n",
       "      <td>0</td>\n",
       "      <td>0</td>\n",
       "    </tr>\n",
       "    <tr>\n",
       "      <th>4</th>\n",
       "      <td>Hello there</td>\n",
       "      <td>Greeting</td>\n",
       "      <td>0</td>\n",
       "      <td>0</td>\n",
       "      <td>0</td>\n",
       "      <td>0</td>\n",
       "      <td>0</td>\n",
       "      <td>0</td>\n",
       "      <td>0</td>\n",
       "      <td>1</td>\n",
       "      <td>...</td>\n",
       "      <td>0</td>\n",
       "      <td>0</td>\n",
       "      <td>0</td>\n",
       "      <td>0</td>\n",
       "      <td>0</td>\n",
       "      <td>0</td>\n",
       "      <td>0</td>\n",
       "      <td>0</td>\n",
       "      <td>0</td>\n",
       "      <td>0</td>\n",
       "    </tr>\n",
       "  </tbody>\n",
       "</table>\n",
       "<p>5 rows × 24 columns</p>\n",
       "</div>"
      ],
      "text/plain": [
       "          Text  category  Clever  CourtesyGoodBye  CourtesyGreeting  \\\n",
       "0           Hi  Greeting       0                0                 0   \n",
       "1     Hi there  Greeting       0                0                 0   \n",
       "2         Hola  Greeting       0                0                 0   \n",
       "3        Hello  Greeting       0                0                 0   \n",
       "4  Hello there  Greeting       0                0                 0   \n",
       "\n",
       "   CourtesyGreetingResponse  CurrentHumanQuery  GoodBye  Gossip  Greeting  \\\n",
       "0                         0                  0        0       0         1   \n",
       "1                         0                  0        0       0         1   \n",
       "2                         0                  0        0       0         1   \n",
       "3                         0                  0        0       0         1   \n",
       "4                         0                  0        0       0         1   \n",
       "\n",
       "   ...  PodBayDoor  PodBayDoorResponse  RealNameQuery  SelfAware  Shutup  \\\n",
       "0  ...           0                   0              0          0       0   \n",
       "1  ...           0                   0              0          0       0   \n",
       "2  ...           0                   0              0          0       0   \n",
       "3  ...           0                   0              0          0       0   \n",
       "4  ...           0                   0              0          0       0   \n",
       "\n",
       "   Swearing  Thanks  TimeQuery  UnderstandQuery  WhoAmI  \n",
       "0         0       0          0                0       0  \n",
       "1         0       0          0                0       0  \n",
       "2         0       0          0                0       0  \n",
       "3         0       0          0                0       0  \n",
       "4         0       0          0                0       0  \n",
       "\n",
       "[5 rows x 24 columns]"
      ]
     },
     "execution_count": 9,
     "metadata": {},
     "output_type": "execute_result"
    }
   ],
   "source": [
    "categories = pd.get_dummies(DataSet[\"category\"], columns=[1], prefix='', prefix_sep='')\n",
    "DataSet[categories.columns] = categories\n",
    "DataSet.head()"
   ]
  },
  {
   "cell_type": "code",
   "execution_count": 10,
   "id": "b4f52440",
   "metadata": {
    "scrolled": true
   },
   "outputs": [
    {
     "data": {
      "text/html": [
       "<div>\n",
       "<style scoped>\n",
       "    .dataframe tbody tr th:only-of-type {\n",
       "        vertical-align: middle;\n",
       "    }\n",
       "\n",
       "    .dataframe tbody tr th {\n",
       "        vertical-align: top;\n",
       "    }\n",
       "\n",
       "    .dataframe thead th {\n",
       "        text-align: right;\n",
       "    }\n",
       "</style>\n",
       "<table border=\"1\" class=\"dataframe\">\n",
       "  <thead>\n",
       "    <tr style=\"text-align: right;\">\n",
       "      <th></th>\n",
       "      <th>Text</th>\n",
       "      <th>Clever</th>\n",
       "      <th>CourtesyGoodBye</th>\n",
       "      <th>CourtesyGreeting</th>\n",
       "      <th>CourtesyGreetingResponse</th>\n",
       "      <th>CurrentHumanQuery</th>\n",
       "      <th>GoodBye</th>\n",
       "      <th>Gossip</th>\n",
       "      <th>Greeting</th>\n",
       "      <th>GreetingResponse</th>\n",
       "      <th>...</th>\n",
       "      <th>PodBayDoor</th>\n",
       "      <th>PodBayDoorResponse</th>\n",
       "      <th>RealNameQuery</th>\n",
       "      <th>SelfAware</th>\n",
       "      <th>Shutup</th>\n",
       "      <th>Swearing</th>\n",
       "      <th>Thanks</th>\n",
       "      <th>TimeQuery</th>\n",
       "      <th>UnderstandQuery</th>\n",
       "      <th>WhoAmI</th>\n",
       "    </tr>\n",
       "  </thead>\n",
       "  <tbody>\n",
       "    <tr>\n",
       "      <th>0</th>\n",
       "      <td>Hi</td>\n",
       "      <td>0</td>\n",
       "      <td>0</td>\n",
       "      <td>0</td>\n",
       "      <td>0</td>\n",
       "      <td>0</td>\n",
       "      <td>0</td>\n",
       "      <td>0</td>\n",
       "      <td>1</td>\n",
       "      <td>0</td>\n",
       "      <td>...</td>\n",
       "      <td>0</td>\n",
       "      <td>0</td>\n",
       "      <td>0</td>\n",
       "      <td>0</td>\n",
       "      <td>0</td>\n",
       "      <td>0</td>\n",
       "      <td>0</td>\n",
       "      <td>0</td>\n",
       "      <td>0</td>\n",
       "      <td>0</td>\n",
       "    </tr>\n",
       "    <tr>\n",
       "      <th>1</th>\n",
       "      <td>Hi there</td>\n",
       "      <td>0</td>\n",
       "      <td>0</td>\n",
       "      <td>0</td>\n",
       "      <td>0</td>\n",
       "      <td>0</td>\n",
       "      <td>0</td>\n",
       "      <td>0</td>\n",
       "      <td>1</td>\n",
       "      <td>0</td>\n",
       "      <td>...</td>\n",
       "      <td>0</td>\n",
       "      <td>0</td>\n",
       "      <td>0</td>\n",
       "      <td>0</td>\n",
       "      <td>0</td>\n",
       "      <td>0</td>\n",
       "      <td>0</td>\n",
       "      <td>0</td>\n",
       "      <td>0</td>\n",
       "      <td>0</td>\n",
       "    </tr>\n",
       "    <tr>\n",
       "      <th>2</th>\n",
       "      <td>Hola</td>\n",
       "      <td>0</td>\n",
       "      <td>0</td>\n",
       "      <td>0</td>\n",
       "      <td>0</td>\n",
       "      <td>0</td>\n",
       "      <td>0</td>\n",
       "      <td>0</td>\n",
       "      <td>1</td>\n",
       "      <td>0</td>\n",
       "      <td>...</td>\n",
       "      <td>0</td>\n",
       "      <td>0</td>\n",
       "      <td>0</td>\n",
       "      <td>0</td>\n",
       "      <td>0</td>\n",
       "      <td>0</td>\n",
       "      <td>0</td>\n",
       "      <td>0</td>\n",
       "      <td>0</td>\n",
       "      <td>0</td>\n",
       "    </tr>\n",
       "    <tr>\n",
       "      <th>3</th>\n",
       "      <td>Hello</td>\n",
       "      <td>0</td>\n",
       "      <td>0</td>\n",
       "      <td>0</td>\n",
       "      <td>0</td>\n",
       "      <td>0</td>\n",
       "      <td>0</td>\n",
       "      <td>0</td>\n",
       "      <td>1</td>\n",
       "      <td>0</td>\n",
       "      <td>...</td>\n",
       "      <td>0</td>\n",
       "      <td>0</td>\n",
       "      <td>0</td>\n",
       "      <td>0</td>\n",
       "      <td>0</td>\n",
       "      <td>0</td>\n",
       "      <td>0</td>\n",
       "      <td>0</td>\n",
       "      <td>0</td>\n",
       "      <td>0</td>\n",
       "    </tr>\n",
       "    <tr>\n",
       "      <th>4</th>\n",
       "      <td>Hello there</td>\n",
       "      <td>0</td>\n",
       "      <td>0</td>\n",
       "      <td>0</td>\n",
       "      <td>0</td>\n",
       "      <td>0</td>\n",
       "      <td>0</td>\n",
       "      <td>0</td>\n",
       "      <td>1</td>\n",
       "      <td>0</td>\n",
       "      <td>...</td>\n",
       "      <td>0</td>\n",
       "      <td>0</td>\n",
       "      <td>0</td>\n",
       "      <td>0</td>\n",
       "      <td>0</td>\n",
       "      <td>0</td>\n",
       "      <td>0</td>\n",
       "      <td>0</td>\n",
       "      <td>0</td>\n",
       "      <td>0</td>\n",
       "    </tr>\n",
       "  </tbody>\n",
       "</table>\n",
       "<p>5 rows × 23 columns</p>\n",
       "</div>"
      ],
      "text/plain": [
       "          Text  Clever  CourtesyGoodBye  CourtesyGreeting  \\\n",
       "0           Hi       0                0                 0   \n",
       "1     Hi there       0                0                 0   \n",
       "2         Hola       0                0                 0   \n",
       "3        Hello       0                0                 0   \n",
       "4  Hello there       0                0                 0   \n",
       "\n",
       "   CourtesyGreetingResponse  CurrentHumanQuery  GoodBye  Gossip  Greeting  \\\n",
       "0                         0                  0        0       0         1   \n",
       "1                         0                  0        0       0         1   \n",
       "2                         0                  0        0       0         1   \n",
       "3                         0                  0        0       0         1   \n",
       "4                         0                  0        0       0         1   \n",
       "\n",
       "   GreetingResponse  ...  PodBayDoor  PodBayDoorResponse  RealNameQuery  \\\n",
       "0                 0  ...           0                   0              0   \n",
       "1                 0  ...           0                   0              0   \n",
       "2                 0  ...           0                   0              0   \n",
       "3                 0  ...           0                   0              0   \n",
       "4                 0  ...           0                   0              0   \n",
       "\n",
       "   SelfAware  Shutup  Swearing  Thanks  TimeQuery  UnderstandQuery  WhoAmI  \n",
       "0          0       0         0       0          0                0       0  \n",
       "1          0       0         0       0          0                0       0  \n",
       "2          0       0         0       0          0                0       0  \n",
       "3          0       0         0       0          0                0       0  \n",
       "4          0       0         0       0          0                0       0  \n",
       "\n",
       "[5 rows x 23 columns]"
      ]
     },
     "execution_count": 10,
     "metadata": {},
     "output_type": "execute_result"
    }
   ],
   "source": [
    "DataSet = DataSet.drop(columns=\"category\")\n",
    "DataSet.head()"
   ]
  },
  {
   "cell_type": "code",
   "execution_count": 11,
   "id": "623cf175",
   "metadata": {},
   "outputs": [],
   "source": [
    "X = DataSet['Text']\n",
    "y = DataSet[DataSet.columns[1:]]"
   ]
  },
  {
   "cell_type": "code",
   "execution_count": 12,
   "id": "4a9db16c",
   "metadata": {},
   "outputs": [],
   "source": [
    "MAX_WORDS = 2000"
   ]
  },
  {
   "cell_type": "code",
   "execution_count": 13,
   "id": "d54b7324",
   "metadata": {},
   "outputs": [
    {
     "name": "stderr",
     "output_type": "stream",
     "text": [
      "2022-05-19 18:34:21.626403: W tensorflow/stream_executor/platform/default/dso_loader.cc:64] Could not load dynamic library 'libcuda.so.1'; dlerror: libcuda.so.1: cannot open shared object file: No such file or directory\n",
      "2022-05-19 18:34:21.626540: W tensorflow/stream_executor/cuda/cuda_driver.cc:269] failed call to cuInit: UNKNOWN ERROR (303)\n",
      "2022-05-19 18:34:21.626645: I tensorflow/stream_executor/cuda/cuda_diagnostics.cc:156] kernel driver does not appear to be running on this host (chiheb-HP): /proc/driver/nvidia/version does not exist\n",
      "2022-05-19 18:34:21.644233: I tensorflow/core/platform/cpu_feature_guard.cc:151] This TensorFlow binary is optimized with oneAPI Deep Neural Network Library (oneDNN) to use the following CPU instructions in performance-critical operations:  AVX2 FMA\n",
      "To enable them in other operations, rebuild TensorFlow with the appropriate compiler flags.\n"
     ]
    }
   ],
   "source": [
    "vectorizer = TextVectorization(max_tokens=MAX_WORDS,\n",
    "                               output_sequence_length=100,\n",
    "                               output_mode='int')"
   ]
  },
  {
   "cell_type": "code",
   "execution_count": 14,
   "id": "87094373",
   "metadata": {},
   "outputs": [],
   "source": [
    "vectorizer.adapt(X.values)"
   ]
  },
  {
   "cell_type": "code",
   "execution_count": 15,
   "id": "d8334f5d",
   "metadata": {
    "scrolled": true
   },
   "outputs": [
    {
     "data": {
      "text/plain": [
       "<tf.Tensor: shape=(1, 100), dtype=int64, numpy=\n",
       "array([[35, 30,  0,  0,  0,  0,  0,  0,  0,  0,  0,  0,  0,  0,  0,  0,\n",
       "         0,  0,  0,  0,  0,  0,  0,  0,  0,  0,  0,  0,  0,  0,  0,  0,\n",
       "         0,  0,  0,  0,  0,  0,  0,  0,  0,  0,  0,  0,  0,  0,  0,  0,\n",
       "         0,  0,  0,  0,  0,  0,  0,  0,  0,  0,  0,  0,  0,  0,  0,  0,\n",
       "         0,  0,  0,  0,  0,  0,  0,  0,  0,  0,  0,  0,  0,  0,  0,  0,\n",
       "         0,  0,  0,  0,  0,  0,  0,  0,  0,  0,  0,  0,  0,  0,  0,  0,\n",
       "         0,  0,  0,  0]])>"
      ]
     },
     "execution_count": 15,
     "metadata": {},
     "output_type": "execute_result"
    }
   ],
   "source": [
    "vectorized_text_test = vectorizer([\"Hello there\"])\n",
    "vectorized_text_test"
   ]
  },
  {
   "cell_type": "code",
   "execution_count": 16,
   "id": "306c8f60",
   "metadata": {},
   "outputs": [],
   "source": [
    "vectorized_text = vectorizer(X.values)"
   ]
  },
  {
   "cell_type": "code",
   "execution_count": 17,
   "id": "c08fcaa9",
   "metadata": {},
   "outputs": [],
   "source": [
    "TextData = tf.data.Dataset.from_tensor_slices((vectorized_text, y))"
   ]
  },
  {
   "cell_type": "code",
   "execution_count": 18,
   "id": "4b078fff",
   "metadata": {},
   "outputs": [],
   "source": [
    "TextData = TextData.cache()\n",
    "TextData = TextData.shuffle(160)\n",
    "TextData = TextData.batch(24)\n",
    "TextData = TextData.prefetch(12)"
   ]
  },
  {
   "cell_type": "code",
   "execution_count": 19,
   "id": "5f3cf9d7",
   "metadata": {},
   "outputs": [],
   "source": [
    "train = TextData.take(int(len(TextData)*.8))\n",
    "val = TextData.skip(int(len(TextData)*.2)).take(int(len(TextData)*.2))"
   ]
  },
  {
   "cell_type": "code",
   "execution_count": 20,
   "id": "fae49878",
   "metadata": {
    "scrolled": true
   },
   "outputs": [
    {
     "name": "stdout",
     "output_type": "stream",
     "text": [
      "Model: \"sequential\"\n",
      "_________________________________________________________________\n",
      " Layer (type)                Output Shape              Param #   \n",
      "=================================================================\n",
      " embedding (Embedding)       (None, None, 16)          32016     \n",
      "                                                                 \n",
      " bidirectional (Bidirectiona  (None, 32)               4224      \n",
      " l)                                                              \n",
      "                                                                 \n",
      " dense (Dense)               (None, 25)                825       \n",
      "                                                                 \n",
      " dense_1 (Dense)             (None, 50)                1300      \n",
      "                                                                 \n",
      " dense_2 (Dense)             (None, 25)                1275      \n",
      "                                                                 \n",
      " dense_3 (Dense)             (None, 22)                572       \n",
      "                                                                 \n",
      "=================================================================\n",
      "Total params: 40,212\n",
      "Trainable params: 40,212\n",
      "Non-trainable params: 0\n",
      "_________________________________________________________________\n"
     ]
    }
   ],
   "source": [
    "model = Sequential([\n",
    "    Embedding(MAX_WORDS+1, 16),\n",
    "    Bidirectional(LSTM(16, activation='tanh')),\n",
    "    Dense(25, activation='relu'),\n",
    "    Dense(50, activation='relu'),\n",
    "    Dense(25, activation='relu'),\n",
    "    Dense(len(y.columns), activation='sigmoid')\n",
    "])\n",
    "\n",
    "model.compile(loss='categorical_crossentropy', optimizer='Adam')\n",
    "\n",
    "model.summary()"
   ]
  },
  {
   "cell_type": "code",
   "execution_count": 21,
   "id": "1ae15a66",
   "metadata": {},
   "outputs": [
    {
     "name": "stdout",
     "output_type": "stream",
     "text": [
      "Epoch 1/100\n",
      "5/5 [==============================] - 5s 229ms/step - loss: 3.0918 - val_loss: 3.0893\n",
      "Epoch 2/100\n",
      "5/5 [==============================] - 0s 45ms/step - loss: 3.0893 - val_loss: 3.0887\n",
      "Epoch 3/100\n",
      "5/5 [==============================] - 0s 61ms/step - loss: 3.0881 - val_loss: 3.0862\n",
      "Epoch 4/100\n",
      "5/5 [==============================] - 0s 40ms/step - loss: 3.0846 - val_loss: 3.0846\n",
      "Epoch 5/100\n",
      "5/5 [==============================] - 0s 42ms/step - loss: 3.0804 - val_loss: 3.0716\n",
      "Epoch 6/100\n",
      "5/5 [==============================] - 0s 47ms/step - loss: 3.0758 - val_loss: 3.0930\n",
      "Epoch 7/100\n",
      "5/5 [==============================] - 0s 41ms/step - loss: 3.0745 - val_loss: 3.0679\n",
      "Epoch 8/100\n",
      "5/5 [==============================] - 0s 45ms/step - loss: 3.0692 - val_loss: 3.0713\n",
      "Epoch 9/100\n",
      "5/5 [==============================] - 0s 43ms/step - loss: 3.0537 - val_loss: 3.0455\n",
      "Epoch 10/100\n",
      "5/5 [==============================] - 0s 44ms/step - loss: 3.0445 - val_loss: 3.0379\n",
      "Epoch 11/100\n",
      "5/5 [==============================] - 0s 54ms/step - loss: 3.0233 - val_loss: 3.0301\n",
      "Epoch 12/100\n",
      "5/5 [==============================] - 0s 40ms/step - loss: 3.0009 - val_loss: 2.8729\n",
      "Epoch 13/100\n",
      "5/5 [==============================] - 0s 42ms/step - loss: 2.9412 - val_loss: 2.9118\n",
      "Epoch 14/100\n",
      "5/5 [==============================] - 0s 57ms/step - loss: 2.9160 - val_loss: 2.7523\n",
      "Epoch 15/100\n",
      "5/5 [==============================] - 0s 42ms/step - loss: 2.8659 - val_loss: 2.7117\n",
      "Epoch 16/100\n",
      "5/5 [==============================] - 0s 41ms/step - loss: 2.7272 - val_loss: 2.6476\n",
      "Epoch 17/100\n",
      "5/5 [==============================] - 0s 42ms/step - loss: 2.6661 - val_loss: 2.5153\n",
      "Epoch 18/100\n",
      "5/5 [==============================] - 0s 41ms/step - loss: 2.6652 - val_loss: 2.6510\n",
      "Epoch 19/100\n",
      "5/5 [==============================] - 0s 40ms/step - loss: 2.5417 - val_loss: 2.3889\n",
      "Epoch 20/100\n",
      "5/5 [==============================] - 0s 41ms/step - loss: 2.4316 - val_loss: 2.3980\n",
      "Epoch 21/100\n",
      "5/5 [==============================] - 0s 42ms/step - loss: 2.3770 - val_loss: 2.2887\n",
      "Epoch 22/100\n",
      "5/5 [==============================] - 0s 40ms/step - loss: 2.3846 - val_loss: 2.4555\n",
      "Epoch 23/100\n",
      "5/5 [==============================] - 0s 50ms/step - loss: 2.2553 - val_loss: 2.3764\n",
      "Epoch 24/100\n",
      "5/5 [==============================] - 0s 46ms/step - loss: 2.2137 - val_loss: 2.3037\n",
      "Epoch 25/100\n",
      "5/5 [==============================] - 0s 40ms/step - loss: 2.1171 - val_loss: 2.0057\n",
      "Epoch 26/100\n",
      "5/5 [==============================] - 0s 44ms/step - loss: 2.1091 - val_loss: 2.1481\n",
      "Epoch 27/100\n",
      "5/5 [==============================] - 0s 42ms/step - loss: 2.0052 - val_loss: 1.9570\n",
      "Epoch 28/100\n",
      "5/5 [==============================] - 0s 48ms/step - loss: 1.9756 - val_loss: 1.7628\n",
      "Epoch 29/100\n",
      "5/5 [==============================] - 0s 45ms/step - loss: 1.9734 - val_loss: 1.8937\n",
      "Epoch 30/100\n",
      "5/5 [==============================] - 0s 56ms/step - loss: 1.8764 - val_loss: 1.7847\n",
      "Epoch 31/100\n",
      "5/5 [==============================] - 0s 39ms/step - loss: 1.8473 - val_loss: 1.9187\n",
      "Epoch 32/100\n",
      "5/5 [==============================] - 0s 39ms/step - loss: 1.7223 - val_loss: 1.9626\n",
      "Epoch 33/100\n",
      "5/5 [==============================] - 0s 61ms/step - loss: 1.6660 - val_loss: 1.6325\n",
      "Epoch 34/100\n",
      "5/5 [==============================] - 0s 40ms/step - loss: 1.6099 - val_loss: 1.8241\n",
      "Epoch 35/100\n",
      "5/5 [==============================] - 0s 50ms/step - loss: 1.5163 - val_loss: 1.3655\n",
      "Epoch 36/100\n",
      "5/5 [==============================] - 0s 63ms/step - loss: 1.5617 - val_loss: 1.7736\n",
      "Epoch 37/100\n",
      "5/5 [==============================] - 0s 42ms/step - loss: 1.4701 - val_loss: 1.4911\n",
      "Epoch 38/100\n",
      "5/5 [==============================] - 0s 40ms/step - loss: 1.4440 - val_loss: 1.3110\n",
      "Epoch 39/100\n",
      "5/5 [==============================] - 0s 64ms/step - loss: 1.4251 - val_loss: 1.3134\n",
      "Epoch 40/100\n",
      "5/5 [==============================] - 0s 41ms/step - loss: 1.3027 - val_loss: 1.1994\n",
      "Epoch 41/100\n",
      "5/5 [==============================] - 0s 42ms/step - loss: 1.2650 - val_loss: 1.1297\n",
      "Epoch 42/100\n",
      "5/5 [==============================] - 0s 42ms/step - loss: 1.2527 - val_loss: 1.2456\n",
      "Epoch 43/100\n",
      "5/5 [==============================] - 0s 40ms/step - loss: 1.1573 - val_loss: 1.3230\n",
      "Epoch 44/100\n",
      "5/5 [==============================] - 0s 40ms/step - loss: 1.2007 - val_loss: 1.1973\n",
      "Epoch 45/100\n",
      "5/5 [==============================] - 0s 41ms/step - loss: 1.1674 - val_loss: 0.9787\n",
      "Epoch 46/100\n",
      "5/5 [==============================] - 0s 45ms/step - loss: 1.1087 - val_loss: 1.1668\n",
      "Epoch 47/100\n",
      "5/5 [==============================] - 0s 40ms/step - loss: 1.0657 - val_loss: 1.1248\n",
      "Epoch 48/100\n",
      "5/5 [==============================] - 0s 40ms/step - loss: 1.0457 - val_loss: 1.0568\n",
      "Epoch 49/100\n",
      "5/5 [==============================] - 0s 65ms/step - loss: 1.0039 - val_loss: 1.1775\n",
      "Epoch 50/100\n",
      "5/5 [==============================] - 0s 41ms/step - loss: 0.9802 - val_loss: 0.8883\n",
      "Epoch 51/100\n",
      "5/5 [==============================] - 0s 44ms/step - loss: 0.9492 - val_loss: 0.9803\n",
      "Epoch 52/100\n",
      "5/5 [==============================] - 0s 51ms/step - loss: 0.9132 - val_loss: 0.8772\n",
      "Epoch 53/100\n",
      "5/5 [==============================] - 0s 45ms/step - loss: 0.8650 - val_loss: 0.8294\n",
      "Epoch 54/100\n",
      "5/5 [==============================] - 0s 39ms/step - loss: 0.8394 - val_loss: 0.8661\n",
      "Epoch 55/100\n",
      "5/5 [==============================] - 0s 40ms/step - loss: 0.8424 - val_loss: 0.7114\n",
      "Epoch 56/100\n",
      "5/5 [==============================] - 0s 40ms/step - loss: 0.8265 - val_loss: 1.0610\n",
      "Epoch 57/100\n",
      "5/5 [==============================] - 0s 40ms/step - loss: 0.7632 - val_loss: 0.7633\n",
      "Epoch 58/100\n",
      "5/5 [==============================] - 0s 41ms/step - loss: 0.7567 - val_loss: 0.7173\n",
      "Epoch 59/100\n",
      "5/5 [==============================] - 0s 39ms/step - loss: 0.6943 - val_loss: 0.7126\n",
      "Epoch 60/100\n",
      "5/5 [==============================] - 0s 42ms/step - loss: 0.7065 - val_loss: 0.7850\n",
      "Epoch 61/100\n",
      "5/5 [==============================] - 0s 45ms/step - loss: 0.7018 - val_loss: 0.4816\n",
      "Epoch 62/100\n",
      "5/5 [==============================] - 0s 43ms/step - loss: 0.7338 - val_loss: 0.5327\n",
      "Epoch 63/100\n",
      "5/5 [==============================] - 0s 50ms/step - loss: 0.6989 - val_loss: 0.7342\n",
      "Epoch 64/100\n",
      "5/5 [==============================] - 0s 42ms/step - loss: 0.6480 - val_loss: 0.5670\n",
      "Epoch 65/100\n",
      "5/5 [==============================] - 0s 38ms/step - loss: 0.6698 - val_loss: 0.6178\n",
      "Epoch 66/100\n",
      "5/5 [==============================] - 0s 42ms/step - loss: 0.6985 - val_loss: 0.8238\n",
      "Epoch 67/100\n",
      "5/5 [==============================] - 0s 40ms/step - loss: 0.6272 - val_loss: 0.6946\n",
      "Epoch 68/100\n",
      "5/5 [==============================] - 0s 40ms/step - loss: 0.7112 - val_loss: 0.8533\n",
      "Epoch 69/100\n",
      "5/5 [==============================] - 0s 40ms/step - loss: 0.7161 - val_loss: 0.5578\n",
      "Epoch 70/100\n",
      "5/5 [==============================] - 0s 39ms/step - loss: 0.6216 - val_loss: 0.5090\n",
      "Epoch 71/100\n",
      "5/5 [==============================] - 0s 40ms/step - loss: 0.5920 - val_loss: 0.8420\n",
      "Epoch 72/100\n",
      "5/5 [==============================] - 0s 40ms/step - loss: 0.5976 - val_loss: 0.5706\n",
      "Epoch 73/100\n",
      "5/5 [==============================] - 0s 41ms/step - loss: 0.5558 - val_loss: 0.4747\n",
      "Epoch 74/100\n",
      "5/5 [==============================] - 0s 39ms/step - loss: 0.5260 - val_loss: 0.4991\n",
      "Epoch 75/100\n",
      "5/5 [==============================] - 0s 42ms/step - loss: 0.5160 - val_loss: 0.3801\n",
      "Epoch 76/100\n",
      "5/5 [==============================] - 0s 51ms/step - loss: 0.4729 - val_loss: 0.4262\n",
      "Epoch 77/100\n",
      "5/5 [==============================] - 0s 41ms/step - loss: 0.4753 - val_loss: 0.4349\n",
      "Epoch 78/100\n",
      "5/5 [==============================] - 0s 41ms/step - loss: 0.4579 - val_loss: 0.4289\n",
      "Epoch 79/100\n",
      "5/5 [==============================] - 0s 39ms/step - loss: 0.4996 - val_loss: 0.4372\n",
      "Epoch 80/100\n",
      "5/5 [==============================] - 0s 40ms/step - loss: 0.4320 - val_loss: 0.3875\n",
      "Epoch 81/100\n",
      "5/5 [==============================] - 0s 40ms/step - loss: 0.4261 - val_loss: 0.3074\n",
      "Epoch 82/100\n",
      "5/5 [==============================] - 0s 43ms/step - loss: 0.3736 - val_loss: 0.4333\n",
      "Epoch 83/100\n",
      "5/5 [==============================] - 0s 41ms/step - loss: 0.4009 - val_loss: 0.3327\n"
     ]
    },
    {
     "name": "stdout",
     "output_type": "stream",
     "text": [
      "Epoch 84/100\n",
      "5/5 [==============================] - 0s 42ms/step - loss: 0.3804 - val_loss: 0.2216\n",
      "Epoch 85/100\n",
      "5/5 [==============================] - 0s 39ms/step - loss: 0.4048 - val_loss: 0.4140\n",
      "Epoch 86/100\n",
      "5/5 [==============================] - 0s 39ms/step - loss: 0.3381 - val_loss: 0.2420\n",
      "Epoch 87/100\n",
      "5/5 [==============================] - 0s 42ms/step - loss: 0.3453 - val_loss: 0.5423\n",
      "Epoch 88/100\n",
      "5/5 [==============================] - 0s 43ms/step - loss: 0.3864 - val_loss: 0.5036\n",
      "Epoch 89/100\n",
      "5/5 [==============================] - 0s 42ms/step - loss: 0.3704 - val_loss: 0.2170\n",
      "Epoch 90/100\n",
      "5/5 [==============================] - 0s 41ms/step - loss: 0.3609 - val_loss: 0.2896\n",
      "Epoch 91/100\n",
      "5/5 [==============================] - 0s 40ms/step - loss: 0.3754 - val_loss: 0.4488\n",
      "Epoch 92/100\n",
      "5/5 [==============================] - 0s 39ms/step - loss: 0.3791 - val_loss: 0.2781\n",
      "Epoch 93/100\n",
      "5/5 [==============================] - 0s 40ms/step - loss: 0.3416 - val_loss: 0.2485\n",
      "Epoch 94/100\n",
      "5/5 [==============================] - 0s 44ms/step - loss: 0.3195 - val_loss: 0.2199\n",
      "Epoch 95/100\n",
      "5/5 [==============================] - 0s 42ms/step - loss: 0.3092 - val_loss: 0.3407\n",
      "Epoch 96/100\n",
      "5/5 [==============================] - 0s 40ms/step - loss: 0.3087 - val_loss: 0.2733\n",
      "Epoch 97/100\n",
      "5/5 [==============================] - 0s 62ms/step - loss: 0.3097 - val_loss: 0.1991\n",
      "Epoch 98/100\n",
      "5/5 [==============================] - 0s 43ms/step - loss: 0.3023 - val_loss: 0.2994\n",
      "Epoch 99/100\n",
      "5/5 [==============================] - 0s 45ms/step - loss: 0.2915 - val_loss: 0.3530\n",
      "Epoch 100/100\n",
      "5/5 [==============================] - 0s 59ms/step - loss: 0.2905 - val_loss: 0.2712\n"
     ]
    }
   ],
   "source": [
    "history = model.fit(train, epochs=100, validation_data=val)"
   ]
  },
  {
   "cell_type": "code",
   "execution_count": 22,
   "id": "1b910858",
   "metadata": {
    "scrolled": true
   },
   "outputs": [
    {
     "data": {
      "text/plain": [
       "[<matplotlib.lines.Line2D at 0x7f45a64c11c0>]"
      ]
     },
     "execution_count": 22,
     "metadata": {},
     "output_type": "execute_result"
    },
    {
     "data": {
      "image/png": "[encoded data removed]",
      "text/plain": [
       "<Figure size 432x288 with 1 Axes>"
      ]
     },
     "metadata": {
      "needs_background": "light"
     },
     "output_type": "display_data"
    }
   ],
   "source": [
    "plt.plot(history.history[\"loss\"])\n",
    "plt.plot(history.history[\"val_loss\"])"
   ]
  },
  {
   "cell_type": "code",
   "execution_count": 23,
   "id": "32c2a44d",
   "metadata": {},
   "outputs": [
    {
     "data": {
      "text/plain": [
       "Index(['Clever', 'CourtesyGoodBye', 'CourtesyGreeting',\n",
       "       'CourtesyGreetingResponse', 'CurrentHumanQuery', 'GoodBye', 'Gossip',\n",
       "       'Greeting', 'GreetingResponse', 'Jokes', 'NameQuery', 'NotTalking2U',\n",
       "       'PodBayDoor', 'PodBayDoorResponse', 'RealNameQuery', 'SelfAware',\n",
       "       'Shutup', 'Swearing', 'Thanks', 'TimeQuery', 'UnderstandQuery',\n",
       "       'WhoAmI'],\n",
       "      dtype='object')"
      ]
     },
     "execution_count": 23,
     "metadata": {},
     "output_type": "execute_result"
    }
   ],
   "source": [
    "y.columns"
   ]
  },
  {
   "cell_type": "code",
   "execution_count": 24,
   "id": "d7ee69df",
   "metadata": {
    "scrolled": true
   },
   "outputs": [
    {
     "data": {
      "text/plain": [
       "<tf.Tensor: shape=(100,), dtype=int64, numpy=\n",
       "array([32,  8,  4,  1,  0,  0,  0,  0,  0,  0,  0,  0,  0,  0,  0,  0,  0,\n",
       "        0,  0,  0,  0,  0,  0,  0,  0,  0,  0,  0,  0,  0,  0,  0,  0,  0,\n",
       "        0,  0,  0,  0,  0,  0,  0,  0,  0,  0,  0,  0,  0,  0,  0,  0,  0,\n",
       "        0,  0,  0,  0,  0,  0,  0,  0,  0,  0,  0,  0,  0,  0,  0,  0,  0,\n",
       "        0,  0,  0,  0,  0,  0,  0,  0,  0,  0,  0,  0,  0,  0,  0,  0,  0,\n",
       "        0,  0,  0,  0,  0,  0,  0,  0,  0,  0,  0,  0,  0,  0,  0])>"
      ]
     },
     "execution_count": 24,
     "metadata": {},
     "output_type": "execute_result"
    }
   ],
   "source": [
    "input_text = vectorizer('my name is chiheb')\n",
    "input_text"
   ]
  },
  {
   "cell_type": "code",
   "execution_count": 25,
   "id": "7fbe2c70",
   "metadata": {
    "scrolled": true
   },
   "outputs": [
    {
     "data": {
      "text/plain": [
       "'GreetingResponse'"
      ]
     },
     "execution_count": 25,
     "metadata": {},
     "output_type": "execute_result"
    }
   ],
   "source": [
    "res = model.predict(np.expand_dims(input_text, 0))\n",
    "y.columns[np.array(tf.argmax(res, 1))][0]"
   ]
  },
  {
   "cell_type": "code",
   "execution_count": null,
   "id": "d11c1a17",
   "metadata": {},
   "outputs": [],
   "source": [
    "model.save(\"model.h5\")\n",
    "model.save(\"modelPB\")"
   ]
  },
  {
   "cell_type": "code",
   "execution_count": null,
   "id": "7f046ba9",
   "metadata": {},
   "outputs": [],
   "source": [
    "import random\n",
    "\n",
    "def chat():\n",
    "    print(\"start:\\n\")\n",
    "    while True:\n",
    "        inputText = input(\"You: \")\n",
    "        if inputText.lower()==\"quit\": break\n",
    "        inputText = vectorizer(inputText)\n",
    "        res = model.predict(np.expand_dims(inputText, 0))\n",
    "        categorie = y.columns[np.array(tf.argmax(res, 1))][0]\n",
    "        for intent in dataset['intents']:\n",
    "            if intent[\"intent\"] == categorie:\n",
    "                responses = intent[\"responses\"]\n",
    "        print(\"bot: \"+random.choice(responses))\n",
    "chat()"
   ]
  },
  {
   "cell_type": "markdown",
   "id": "76238a86",
   "metadata": {},
   "source": [
    "This project is not yet complete, i will revisit it sometime in the near future, the NN model is working but there is some work that could be done to improve it(e.g: add relation between the bot's response and his next responses)."
   ]
  }
 ],
 "metadata": {
  "kernelspec": {
   "display_name": "Python 3 (ipykernel)",
   "language": "python",
   "name": "python3"
  },
  "language_info": {
   "codemirror_mode": {
    "name": "ipython",
    "version": 3
   },
   "file_extension": ".py",
   "mimetype": "text/x-python",
   "name": "python",
   "nbconvert_exporter": "python",
   "pygments_lexer": "ipython3",
   "version": "3.8.10"
  }
 },
 "nbformat": 4,
 "nbformat_minor": 5
}
